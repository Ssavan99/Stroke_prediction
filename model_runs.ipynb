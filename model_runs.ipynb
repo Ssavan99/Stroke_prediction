{
 "cells": [
  {
   "cell_type": "code",
   "execution_count": 6,
   "metadata": {},
   "outputs": [],
   "source": [
    "from data_utils import get_adasyn_data, get_smote_data, get_ros_data\n",
    "from model_utils import model_pipeline, run_all_models"
   ]
  },
  {
   "cell_type": "code",
   "execution_count": 7,
   "metadata": {},
   "outputs": [],
   "source": [
    "from sklearn.ensemble import RandomForestClassifier\n",
    "from sklearn.tree import DecisionTreeClassifier\n",
    "from sklearn.neural_network import MLPClassifier\n",
    "from sklearn.svm import SVC\n",
    "from sklearn.linear_model import LogisticRegression\n",
    "from sklearn.neighbors import KNeighborsClassifier\n",
    "from sklearn.naive_bayes import GaussianNB"
   ]
  },
  {
   "cell_type": "code",
   "execution_count": 8,
   "metadata": {},
   "outputs": [],
   "source": [
    "models = [RandomForestClassifier(), DecisionTreeClassifier(), LogisticRegression(max_iter=2000), KNeighborsClassifier(), MLPClassifier(), GaussianNB(), SVC()]"
   ]
  },
  {
   "cell_type": "code",
   "execution_count": 9,
   "metadata": {},
   "outputs": [],
   "source": [
    "smote_data = get_smote_data()"
   ]
  },
  {
   "cell_type": "code",
   "execution_count": 10,
   "metadata": {},
   "outputs": [],
   "source": [
    "adasyn_data = get_adasyn_data()"
   ]
  },
  {
   "cell_type": "code",
   "execution_count": 11,
   "metadata": {},
   "outputs": [
    {
     "name": "stdout",
     "output_type": "stream",
     "text": [
      "RandomForestClassifier_smote\n",
      "              precision    recall  f1-score   support\n",
      "\n",
      "           0       0.96      0.99      0.98       979\n",
      "           1       0.99      0.95      0.97       901\n",
      "\n",
      "    accuracy                           0.97      1880\n",
      "   macro avg       0.98      0.97      0.97      1880\n",
      "weighted avg       0.98      0.97      0.97      1880\n",
      "\n",
      "++++++++++++++++++++++++++++++++++++++++++++\n",
      "DecisionTreeClassifier_smote\n",
      "              precision    recall  f1-score   support\n",
      "\n",
      "           0       0.96      0.93      0.95       979\n",
      "           1       0.93      0.96      0.94       901\n",
      "\n",
      "    accuracy                           0.94      1880\n",
      "   macro avg       0.94      0.95      0.94      1880\n",
      "weighted avg       0.95      0.94      0.94      1880\n",
      "\n",
      "++++++++++++++++++++++++++++++++++++++++++++\n",
      "LogisticRegression_smote\n",
      "              precision    recall  f1-score   support\n",
      "\n",
      "           0       0.94      0.99      0.96       979\n",
      "           1       0.99      0.93      0.96       901\n",
      "\n",
      "    accuracy                           0.96      1880\n",
      "   macro avg       0.96      0.96      0.96      1880\n",
      "weighted avg       0.96      0.96      0.96      1880\n",
      "\n",
      "++++++++++++++++++++++++++++++++++++++++++++\n",
      "KNeighborsClassifier_smote\n",
      "              precision    recall  f1-score   support\n",
      "\n",
      "           0       0.99      0.81      0.89       979\n",
      "           1       0.82      0.99      0.90       901\n",
      "\n",
      "    accuracy                           0.89      1880\n",
      "   macro avg       0.91      0.90      0.89      1880\n",
      "weighted avg       0.91      0.89      0.89      1880\n",
      "\n",
      "++++++++++++++++++++++++++++++++++++++++++++\n",
      "MLPClassifier_smote\n",
      "              precision    recall  f1-score   support\n",
      "\n",
      "           0       0.91      1.00      0.95       979\n",
      "           1       1.00      0.90      0.94       901\n",
      "\n",
      "    accuracy                           0.95      1880\n",
      "   macro avg       0.95      0.95      0.95      1880\n",
      "weighted avg       0.95      0.95      0.95      1880\n",
      "\n",
      "++++++++++++++++++++++++++++++++++++++++++++\n",
      "GaussianNB_smote\n",
      "              precision    recall  f1-score   support\n",
      "\n",
      "           0       0.91      0.56      0.70       979\n",
      "           1       0.66      0.94      0.78       901\n",
      "\n",
      "    accuracy                           0.74      1880\n",
      "   macro avg       0.79      0.75      0.74      1880\n",
      "weighted avg       0.79      0.74      0.74      1880\n",
      "\n",
      "++++++++++++++++++++++++++++++++++++++++++++\n",
      "SVC_smote\n",
      "              precision    recall  f1-score   support\n",
      "\n",
      "           0       0.82      0.71      0.76       979\n",
      "           1       0.73      0.83      0.78       901\n",
      "\n",
      "    accuracy                           0.77      1880\n",
      "   macro avg       0.78      0.77      0.77      1880\n",
      "weighted avg       0.78      0.77      0.77      1880\n",
      "\n",
      "++++++++++++++++++++++++++++++++++++++++++++\n"
     ]
    },
    {
     "data": {
      "text/plain": [
       "<Figure size 640x480 with 0 Axes>"
      ]
     },
     "metadata": {},
     "output_type": "display_data"
    }
   ],
   "source": [
    "_, reports = run_all_models(models, smote_data, '_smote')"
   ]
  },
  {
   "cell_type": "code",
   "execution_count": 12,
   "metadata": {},
   "outputs": [
    {
     "name": "stdout",
     "output_type": "stream",
     "text": [
      "RandomForestClassifier_adasyn\n",
      "              precision    recall  f1-score   support\n",
      "\n",
      "           0       0.95      0.99      0.97       927\n",
      "           1       0.99      0.95      0.97       945\n",
      "\n",
      "    accuracy                           0.97      1872\n",
      "   macro avg       0.97      0.97      0.97      1872\n",
      "weighted avg       0.97      0.97      0.97      1872\n",
      "\n",
      "++++++++++++++++++++++++++++++++++++++++++++\n",
      "DecisionTreeClassifier_adasyn\n",
      "              precision    recall  f1-score   support\n",
      "\n",
      "           0       0.95      0.94      0.95       927\n",
      "           1       0.95      0.95      0.95       945\n",
      "\n",
      "    accuracy                           0.95      1872\n",
      "   macro avg       0.95      0.95      0.95      1872\n",
      "weighted avg       0.95      0.95      0.95      1872\n",
      "\n",
      "++++++++++++++++++++++++++++++++++++++++++++\n",
      "LogisticRegression_adasyn\n",
      "              precision    recall  f1-score   support\n",
      "\n",
      "           0       0.93      1.00      0.96       927\n",
      "           1       1.00      0.93      0.96       945\n",
      "\n",
      "    accuracy                           0.96      1872\n",
      "   macro avg       0.96      0.96      0.96      1872\n",
      "weighted avg       0.96      0.96      0.96      1872\n",
      "\n",
      "++++++++++++++++++++++++++++++++++++++++++++\n",
      "KNeighborsClassifier_adasyn\n",
      "              precision    recall  f1-score   support\n",
      "\n",
      "           0       0.98      0.80      0.88       927\n",
      "           1       0.84      0.99      0.91       945\n",
      "\n",
      "    accuracy                           0.90      1872\n",
      "   macro avg       0.91      0.89      0.89      1872\n",
      "weighted avg       0.91      0.90      0.89      1872\n",
      "\n",
      "++++++++++++++++++++++++++++++++++++++++++++\n",
      "MLPClassifier_adasyn\n",
      "              precision    recall  f1-score   support\n",
      "\n",
      "           0       0.97      0.90      0.93       927\n",
      "           1       0.91      0.97      0.94       945\n",
      "\n",
      "    accuracy                           0.93      1872\n",
      "   macro avg       0.94      0.93      0.93      1872\n",
      "weighted avg       0.94      0.93      0.93      1872\n",
      "\n",
      "++++++++++++++++++++++++++++++++++++++++++++\n",
      "GaussianNB_adasyn\n",
      "              precision    recall  f1-score   support\n",
      "\n",
      "           0       0.91      0.56      0.69       927\n",
      "           1       0.68      0.94      0.79       945\n",
      "\n",
      "    accuracy                           0.75      1872\n",
      "   macro avg       0.80      0.75      0.74      1872\n",
      "weighted avg       0.79      0.75      0.74      1872\n",
      "\n",
      "++++++++++++++++++++++++++++++++++++++++++++\n",
      "SVC_adasyn\n",
      "              precision    recall  f1-score   support\n",
      "\n",
      "           0       0.80      0.70      0.75       927\n",
      "           1       0.74      0.83      0.78       945\n",
      "\n",
      "    accuracy                           0.77      1872\n",
      "   macro avg       0.77      0.76      0.76      1872\n",
      "weighted avg       0.77      0.77      0.76      1872\n",
      "\n",
      "++++++++++++++++++++++++++++++++++++++++++++\n"
     ]
    },
    {
     "data": {
      "text/plain": [
       "([RandomForestClassifier(),\n",
       "  DecisionTreeClassifier(),\n",
       "  LogisticRegression(max_iter=2000),\n",
       "  KNeighborsClassifier(),\n",
       "  MLPClassifier(),\n",
       "  GaussianNB(),\n",
       "  SVC()],\n",
       " ['              precision    recall  f1-score   support\\n\\n           0       0.95      0.99      0.97       927\\n           1       0.99      0.95      0.97       945\\n\\n    accuracy                           0.97      1872\\n   macro avg       0.97      0.97      0.97      1872\\nweighted avg       0.97      0.97      0.97      1872\\n',\n",
       "  '              precision    recall  f1-score   support\\n\\n           0       0.95      0.94      0.95       927\\n           1       0.95      0.95      0.95       945\\n\\n    accuracy                           0.95      1872\\n   macro avg       0.95      0.95      0.95      1872\\nweighted avg       0.95      0.95      0.95      1872\\n',\n",
       "  '              precision    recall  f1-score   support\\n\\n           0       0.93      1.00      0.96       927\\n           1       1.00      0.93      0.96       945\\n\\n    accuracy                           0.96      1872\\n   macro avg       0.96      0.96      0.96      1872\\nweighted avg       0.96      0.96      0.96      1872\\n',\n",
       "  '              precision    recall  f1-score   support\\n\\n           0       0.98      0.80      0.88       927\\n           1       0.84      0.99      0.91       945\\n\\n    accuracy                           0.90      1872\\n   macro avg       0.91      0.89      0.89      1872\\nweighted avg       0.91      0.90      0.89      1872\\n',\n",
       "  '              precision    recall  f1-score   support\\n\\n           0       0.97      0.90      0.93       927\\n           1       0.91      0.97      0.94       945\\n\\n    accuracy                           0.93      1872\\n   macro avg       0.94      0.93      0.93      1872\\nweighted avg       0.94      0.93      0.93      1872\\n',\n",
       "  '              precision    recall  f1-score   support\\n\\n           0       0.91      0.56      0.69       927\\n           1       0.68      0.94      0.79       945\\n\\n    accuracy                           0.75      1872\\n   macro avg       0.80      0.75      0.74      1872\\nweighted avg       0.79      0.75      0.74      1872\\n',\n",
       "  '              precision    recall  f1-score   support\\n\\n           0       0.80      0.70      0.75       927\\n           1       0.74      0.83      0.78       945\\n\\n    accuracy                           0.77      1872\\n   macro avg       0.77      0.76      0.76      1872\\nweighted avg       0.77      0.77      0.76      1872\\n'])"
      ]
     },
     "execution_count": 12,
     "metadata": {},
     "output_type": "execute_result"
    },
    {
     "data": {
      "text/plain": [
       "<Figure size 640x480 with 0 Axes>"
      ]
     },
     "metadata": {},
     "output_type": "display_data"
    }
   ],
   "source": [
    "run_all_models(models, adasyn_data, '_adasyn')"
   ]
  },
  {
   "cell_type": "code",
   "execution_count": 13,
   "metadata": {},
   "outputs": [],
   "source": [
    "ros_data = get_ros_data()"
   ]
  },
  {
   "cell_type": "code",
   "execution_count": 14,
   "metadata": {},
   "outputs": [
    {
     "name": "stdout",
     "output_type": "stream",
     "text": [
      "RandomForestClassifier_ros\n",
      "              precision    recall  f1-score   support\n",
      "\n",
      "           0       1.00      0.99      0.99       945\n",
      "           1       0.99      1.00      0.99       935\n",
      "\n",
      "    accuracy                           0.99      1880\n",
      "   macro avg       0.99      0.99      0.99      1880\n",
      "weighted avg       0.99      0.99      0.99      1880\n",
      "\n",
      "++++++++++++++++++++++++++++++++++++++++++++\n",
      "DecisionTreeClassifier_ros\n",
      "              precision    recall  f1-score   support\n",
      "\n",
      "           0       1.00      0.95      0.98       945\n",
      "           1       0.96      1.00      0.98       935\n",
      "\n",
      "    accuracy                           0.98      1880\n",
      "   macro avg       0.98      0.98      0.98      1880\n",
      "weighted avg       0.98      0.98      0.98      1880\n",
      "\n",
      "++++++++++++++++++++++++++++++++++++++++++++\n",
      "LogisticRegression_ros\n",
      "              precision    recall  f1-score   support\n",
      "\n",
      "           0       0.80      0.72      0.76       945\n",
      "           1       0.74      0.82      0.78       935\n",
      "\n",
      "    accuracy                           0.77      1880\n",
      "   macro avg       0.77      0.77      0.77      1880\n",
      "weighted avg       0.77      0.77      0.77      1880\n",
      "\n",
      "++++++++++++++++++++++++++++++++++++++++++++\n",
      "KNeighborsClassifier_ros\n",
      "              precision    recall  f1-score   support\n",
      "\n",
      "           0       1.00      0.88      0.94       945\n",
      "           1       0.89      1.00      0.94       935\n",
      "\n",
      "    accuracy                           0.94      1880\n",
      "   macro avg       0.95      0.94      0.94      1880\n",
      "weighted avg       0.95      0.94      0.94      1880\n",
      "\n",
      "++++++++++++++++++++++++++++++++++++++++++++\n"
     ]
    },
    {
     "name": "stderr",
     "output_type": "stream",
     "text": [
      "/Users/ritvik_handa/miniforge3/envs/mlenv/lib/python3.8/site-packages/sklearn/neural_network/_multilayer_perceptron.py:702: ConvergenceWarning: Stochastic Optimizer: Maximum iterations (200) reached and the optimization hasn't converged yet.\n",
      "  warnings.warn(\n"
     ]
    },
    {
     "name": "stdout",
     "output_type": "stream",
     "text": [
      "MLPClassifier_ros\n",
      "              precision    recall  f1-score   support\n",
      "\n",
      "           0       0.88      0.77      0.82       945\n",
      "           1       0.79      0.89      0.84       935\n",
      "\n",
      "    accuracy                           0.83      1880\n",
      "   macro avg       0.83      0.83      0.83      1880\n",
      "weighted avg       0.83      0.83      0.83      1880\n",
      "\n",
      "++++++++++++++++++++++++++++++++++++++++++++\n",
      "GaussianNB_ros\n",
      "              precision    recall  f1-score   support\n",
      "\n",
      "           0       0.93      0.31      0.47       945\n",
      "           1       0.58      0.97      0.73       935\n",
      "\n",
      "    accuracy                           0.64      1880\n",
      "   macro avg       0.75      0.64      0.60      1880\n",
      "weighted avg       0.76      0.64      0.60      1880\n",
      "\n",
      "++++++++++++++++++++++++++++++++++++++++++++\n",
      "SVC_ros\n",
      "              precision    recall  f1-score   support\n",
      "\n",
      "           0       0.80      0.70      0.74       945\n",
      "           1       0.73      0.82      0.77       935\n",
      "\n",
      "    accuracy                           0.76      1880\n",
      "   macro avg       0.76      0.76      0.76      1880\n",
      "weighted avg       0.76      0.76      0.76      1880\n",
      "\n",
      "++++++++++++++++++++++++++++++++++++++++++++\n"
     ]
    },
    {
     "data": {
      "text/plain": [
       "<Figure size 640x480 with 0 Axes>"
      ]
     },
     "metadata": {},
     "output_type": "display_data"
    }
   ],
   "source": [
    "_, reports = run_all_models(models, ros_data, '_ros')"
   ]
  },
  {
   "cell_type": "code",
   "execution_count": null,
   "metadata": {},
   "outputs": [],
   "source": []
  }
 ],
 "metadata": {
  "kernelspec": {
   "display_name": "Python 3.8.13 ('mlenv')",
   "language": "python",
   "name": "python3"
  },
  "language_info": {
   "codemirror_mode": {
    "name": "ipython",
    "version": 3
   },
   "file_extension": ".py",
   "mimetype": "text/x-python",
   "name": "python",
   "nbconvert_exporter": "python",
   "pygments_lexer": "ipython3",
   "version": "3.8.13"
  },
  "orig_nbformat": 4,
  "vscode": {
   "interpreter": {
    "hash": "dbe20b6bb68705ca0eb3658eced2db84947d1d29d55e0b916e191d08ecf3d16a"
   }
  }
 },
 "nbformat": 4,
 "nbformat_minor": 2
}
