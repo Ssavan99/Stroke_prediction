{
 "cells": [
  {
   "cell_type": "code",
   "execution_count": 1,
   "metadata": {},
   "outputs": [],
   "source": [
    "from data_utils import get_adasyn_data, get_smote_data\n",
    "from model_utils import model_pipeline, run_all_models"
   ]
  },
  {
   "cell_type": "code",
   "execution_count": 2,
   "metadata": {},
   "outputs": [],
   "source": [
    "from sklearn.ensemble import RandomForestClassifier\n",
    "from sklearn.tree import DecisionTreeClassifier\n",
    "from sklearn.neural_network import MLPClassifier\n",
    "from sklearn.svm import SVC\n",
    "from sklearn.linear_model import LogisticRegression\n",
    "from sklearn.neighbors import KNeighborsClassifier\n",
    "from sklearn.naive_bayes import GaussianNB"
   ]
  },
  {
   "cell_type": "code",
   "execution_count": 3,
   "metadata": {},
   "outputs": [],
   "source": [
    "models = [RandomForestClassifier(), DecisionTreeClassifier(), LogisticRegression(max_iter=2000), KNeighborsClassifier(), MLPClassifier(), GaussianNB(), SVC()]"
   ]
  },
  {
   "cell_type": "code",
   "execution_count": 4,
   "metadata": {},
   "outputs": [],
   "source": [
    "smote_data = get_smote_data()"
   ]
  },
  {
   "cell_type": "code",
   "execution_count": 5,
   "metadata": {},
   "outputs": [],
   "source": [
    "adasyn_data = get_adasyn_data()"
   ]
  },
  {
   "cell_type": "code",
   "execution_count": 6,
   "metadata": {},
   "outputs": [
    {
     "name": "stdout",
     "output_type": "stream",
     "text": [
      "              precision    recall  f1-score   support\n",
      "\n",
      "           0       0.96      0.99      0.97       941\n",
      "           1       0.99      0.95      0.97       939\n",
      "\n",
      "    accuracy                           0.97      1880\n",
      "   macro avg       0.97      0.97      0.97      1880\n",
      "weighted avg       0.97      0.97      0.97      1880\n",
      "\n",
      "              precision    recall  f1-score   support\n",
      "\n",
      "           0       0.95      0.95      0.95       941\n",
      "           1       0.95      0.95      0.95       939\n",
      "\n",
      "    accuracy                           0.95      1880\n",
      "   macro avg       0.95      0.95      0.95      1880\n",
      "weighted avg       0.95      0.95      0.95      1880\n",
      "\n",
      "              precision    recall  f1-score   support\n",
      "\n",
      "           0       0.94      0.99      0.96       941\n",
      "           1       0.99      0.93      0.96       939\n",
      "\n",
      "    accuracy                           0.96      1880\n",
      "   macro avg       0.96      0.96      0.96      1880\n",
      "weighted avg       0.96      0.96      0.96      1880\n",
      "\n",
      "              precision    recall  f1-score   support\n",
      "\n",
      "           0       0.99      0.80      0.88       941\n",
      "           1       0.83      0.99      0.90       939\n",
      "\n",
      "    accuracy                           0.89      1880\n",
      "   macro avg       0.91      0.89      0.89      1880\n",
      "weighted avg       0.91      0.89      0.89      1880\n",
      "\n",
      "              precision    recall  f1-score   support\n",
      "\n",
      "           0       0.94      0.98      0.96       941\n",
      "           1       0.98      0.94      0.96       939\n",
      "\n",
      "    accuracy                           0.96      1880\n",
      "   macro avg       0.96      0.96      0.96      1880\n",
      "weighted avg       0.96      0.96      0.96      1880\n",
      "\n",
      "              precision    recall  f1-score   support\n",
      "\n",
      "           0       0.92      0.58      0.71       941\n",
      "           1       0.69      0.95      0.80       939\n",
      "\n",
      "    accuracy                           0.76      1880\n",
      "   macro avg       0.80      0.76      0.75      1880\n",
      "weighted avg       0.80      0.76      0.75      1880\n",
      "\n",
      "              precision    recall  f1-score   support\n",
      "\n",
      "           0       0.79      0.70      0.74       941\n",
      "           1       0.73      0.82      0.77       939\n",
      "\n",
      "    accuracy                           0.76      1880\n",
      "   macro avg       0.76      0.76      0.76      1880\n",
      "weighted avg       0.76      0.76      0.76      1880\n",
      "\n"
     ]
    },
    {
     "data": {
      "text/plain": [
       "[RandomForestClassifier(),\n",
       " DecisionTreeClassifier(),\n",
       " LogisticRegression(max_iter=2000),\n",
       " KNeighborsClassifier(),\n",
       " MLPClassifier(),\n",
       " GaussianNB(),\n",
       " SVC()]"
      ]
     },
     "execution_count": 6,
     "metadata": {},
     "output_type": "execute_result"
    },
    {
     "data": {
      "text/plain": [
       "<Figure size 640x480 with 0 Axes>"
      ]
     },
     "metadata": {},
     "output_type": "display_data"
    }
   ],
   "source": [
    "run_all_models(models, smote_data, '_smote')"
   ]
  },
  {
   "cell_type": "code",
   "execution_count": 7,
   "metadata": {},
   "outputs": [
    {
     "name": "stdout",
     "output_type": "stream",
     "text": [
      "              precision    recall  f1-score   support\n",
      "\n",
      "           0       0.96      0.99      0.98       950\n",
      "           1       0.99      0.96      0.97       922\n",
      "\n",
      "    accuracy                           0.97      1872\n",
      "   macro avg       0.98      0.97      0.97      1872\n",
      "weighted avg       0.98      0.97      0.97      1872\n",
      "\n",
      "              precision    recall  f1-score   support\n",
      "\n",
      "           0       0.96      0.94      0.95       950\n",
      "           1       0.94      0.96      0.95       922\n",
      "\n",
      "    accuracy                           0.95      1872\n",
      "   macro avg       0.95      0.95      0.95      1872\n",
      "weighted avg       0.95      0.95      0.95      1872\n",
      "\n",
      "              precision    recall  f1-score   support\n",
      "\n",
      "           0       0.94      0.99      0.96       950\n",
      "           1       0.99      0.93      0.96       922\n",
      "\n",
      "    accuracy                           0.96      1872\n",
      "   macro avg       0.97      0.96      0.96      1872\n",
      "weighted avg       0.96      0.96      0.96      1872\n",
      "\n",
      "              precision    recall  f1-score   support\n",
      "\n",
      "           0       0.98      0.78      0.87       950\n",
      "           1       0.82      0.98      0.89       922\n",
      "\n",
      "    accuracy                           0.88      1872\n",
      "   macro avg       0.90      0.88      0.88      1872\n",
      "weighted avg       0.90      0.88      0.88      1872\n",
      "\n",
      "              precision    recall  f1-score   support\n",
      "\n",
      "           0       0.96      0.97      0.96       950\n",
      "           1       0.96      0.95      0.96       922\n",
      "\n",
      "    accuracy                           0.96      1872\n",
      "   macro avg       0.96      0.96      0.96      1872\n",
      "weighted avg       0.96      0.96      0.96      1872\n",
      "\n",
      "              precision    recall  f1-score   support\n",
      "\n",
      "           0       0.92      0.60      0.73       950\n",
      "           1       0.70      0.94      0.80       922\n",
      "\n",
      "    accuracy                           0.77      1872\n",
      "   macro avg       0.81      0.77      0.77      1872\n",
      "weighted avg       0.81      0.77      0.76      1872\n",
      "\n",
      "              precision    recall  f1-score   support\n",
      "\n",
      "           0       0.84      0.68      0.75       950\n",
      "           1       0.73      0.87      0.79       922\n",
      "\n",
      "    accuracy                           0.77      1872\n",
      "   macro avg       0.78      0.78      0.77      1872\n",
      "weighted avg       0.79      0.77      0.77      1872\n",
      "\n"
     ]
    },
    {
     "data": {
      "text/plain": [
       "[RandomForestClassifier(),\n",
       " DecisionTreeClassifier(),\n",
       " LogisticRegression(max_iter=2000),\n",
       " KNeighborsClassifier(),\n",
       " MLPClassifier(),\n",
       " GaussianNB(),\n",
       " SVC()]"
      ]
     },
     "execution_count": 7,
     "metadata": {},
     "output_type": "execute_result"
    },
    {
     "data": {
      "text/plain": [
       "<Figure size 640x480 with 0 Axes>"
      ]
     },
     "metadata": {},
     "output_type": "display_data"
    }
   ],
   "source": [
    "run_all_models(models, adasyn_data, '_adasyn')"
   ]
  },
  {
   "cell_type": "code",
   "execution_count": null,
   "metadata": {},
   "outputs": [],
   "source": []
  }
 ],
 "metadata": {
  "kernelspec": {
   "display_name": "Python 3.8.13 ('mlenv')",
   "language": "python",
   "name": "python3"
  },
  "language_info": {
   "codemirror_mode": {
    "name": "ipython",
    "version": 3
   },
   "file_extension": ".py",
   "mimetype": "text/x-python",
   "name": "python",
   "nbconvert_exporter": "python",
   "pygments_lexer": "ipython3",
   "version": "3.8.13"
  },
  "orig_nbformat": 4,
  "vscode": {
   "interpreter": {
    "hash": "dbe20b6bb68705ca0eb3658eced2db84947d1d29d55e0b916e191d08ecf3d16a"
   }
  }
 },
 "nbformat": 4,
 "nbformat_minor": 2
}
